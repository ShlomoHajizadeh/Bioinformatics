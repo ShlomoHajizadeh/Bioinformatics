{
 "cells": [
  {
   "cell_type": "code",
   "execution_count": 1,
   "id": "febe61c1-c07d-44c5-917b-1c5ce1c378a1",
   "metadata": {},
   "outputs": [
    {
     "name": "stdout",
     "output_type": "stream",
     "text": [
      "Requirement already satisfied: biopython in /opt/anaconda3/lib/python3.12/site-packages (1.85)\n",
      "Requirement already satisfied: numpy in /opt/anaconda3/lib/python3.12/site-packages (from biopython) (1.26.4)\n",
      "Note: you may need to restart the kernel to use updated packages.\n"
     ]
    }
   ],
   "source": [
    "%pip install biopython"
   ]
  },
  {
   "cell_type": "code",
   "execution_count": 2,
   "id": "d5ff4219-e05b-4990-a515-561d81081483",
   "metadata": {},
   "outputs": [
    {
     "name": "stdout",
     "output_type": "stream",
     "text": [
      "1.85\n"
     ]
    }
   ],
   "source": [
    "import Bio\n",
    "print(Bio.__version__)"
   ]
  },
  {
   "cell_type": "code",
   "execution_count": 3,
   "id": "8751fe1c-c856-45da-a2a8-f75aa2dda16d",
   "metadata": {},
   "outputs": [
    {
     "name": "stdout",
     "output_type": "stream",
     "text": [
      "Requirement already satisfied: biopython in /opt/anaconda3/lib/python3.12/site-packages (1.85)\n",
      "Requirement already satisfied: numpy in /opt/anaconda3/lib/python3.12/site-packages (from biopython) (1.26.4)\n",
      "Note: you may need to restart the kernel to use updated packages.\n",
      "AGTACACTGGT\n"
     ]
    }
   ],
   "source": [
    "%pip install biopython\n",
    "from Bio.Seq import Seq\n",
    "my_Seq=Seq(\"AGTACACTGGT\")\n",
    "print(my_Seq)"
   ]
  },
  {
   "cell_type": "code",
   "execution_count": 4,
   "id": "afef16f8-f77e-455a-a319-105bd00541fa",
   "metadata": {},
   "outputs": [
    {
     "data": {
      "text/plain": [
       "Seq('TCATGTGACCA')"
      ]
     },
     "execution_count": 4,
     "metadata": {},
     "output_type": "execute_result"
    }
   ],
   "source": [
    "my_Seq.complement()"
   ]
  },
  {
   "cell_type": "code",
   "execution_count": 5,
   "id": "20bc6642-bf94-46aa-a8c5-1217bef21fc1",
   "metadata": {},
   "outputs": [
    {
     "data": {
      "text/plain": [
       "Seq('ACCAGTGTACT')"
      ]
     },
     "execution_count": 5,
     "metadata": {},
     "output_type": "execute_result"
    }
   ],
   "source": [
    "my_Seq.reverse_complement()"
   ]
  },
  {
   "cell_type": "code",
   "execution_count": 17,
   "id": "900ac57f-433c-4e61-bade-7993680eb2f5",
   "metadata": {},
   "outputs": [
    {
     "name": "stdout",
     "output_type": "stream",
     "text": [
      "ID: MW241575.1\n",
      "Sequence Length: 628\n",
      "Sequence: Seq('GGTGAAATAAAAGGACATTACTTGAATGCAACTGCGGGTACATGTGAAGAAATG...GTA')\n"
     ]
    }
   ],
   "source": [
    "from Bio import SeqIO\n",
    "file_path = r\"/Users/shlomohajizadeh/Documents/GitHub/Bioinformatics/Biopython/Data/ls_orchid.fasta\"  # Fayl adını düzgün yaz\n",
    "for seq_record in SeqIO.parse(file_path, \"fasta\"):\n",
    "    print(\"ID:\", seq_record.id)\n",
    "    print(\"Sequence Length:\", len(seq_record))\n",
    "    print(\"Sequence:\", repr(seq_record.seq))  # Nukleotid ardıcıllığını çap edir"
   ]
  },
  {
   "cell_type": "code",
   "execution_count": 18,
   "id": "5b28e1f0-2363-401e-baea-24cf8c97e400",
   "metadata": {},
   "outputs": [
    {
     "name": "stdout",
     "output_type": "stream",
     "text": [
      "ID: MW241575.1\n",
      "Sequence Length: 628\n",
      "Sequence: Seq('GGTGAAATAAAAGGACATTACTTGAATGCAACTGCGGGTACATGTGAAGAAATG...GTA')\n"
     ]
    }
   ],
   "source": [
    "from Bio import SeqIO\n",
    "\n",
    "file_path = r\"/Users/shlomohajizadeh/Documents/GitHub/Bioinformatics/Biopython/Data/ls_orchid.gbk\"  # Düzgün fayl yolu\n",
    "\n",
    "for seq_record in SeqIO.parse(file_path, \"genbank\"):  # \"gbk\" əvəzinə \"genbank\" yazdıq\n",
    "    print(\"ID:\", seq_record.id)\n",
    "    print(\"Sequence Length:\", len(seq_record))\n",
    "    print(\"Sequence:\", repr(seq_record.seq)) "
   ]
  },
  {
   "cell_type": "code",
   "execution_count": 8,
   "id": "c50734a4-1771-4178-9325-31a0df1c9afa",
   "metadata": {},
   "outputs": [
    {
     "name": "stdout",
     "output_type": "stream",
     "text": [
      "0 G\n",
      "1 A\n",
      "2 T\n",
      "3 C\n",
      "4 G\n",
      "5\n"
     ]
    }
   ],
   "source": [
    "from Bio.Seq import Seq\n",
    "my_seq = Seq(\"GATCG\")\n",
    "for index, letter in enumerate(my_seq):\n",
    "    print(index, letter)   \n",
    "print(len(my_seq)) "
   ]
  },
  {
   "cell_type": "code",
   "execution_count": 9,
   "id": "23f3cb99-ee6c-4812-bd69-e5137d0509e8",
   "metadata": {},
   "outputs": [
    {
     "name": "stdout",
     "output_type": "stream",
     "text": [
      "70\n",
      "20\n",
      "ACAAGGTT\n",
      "ACAGTCGAGGACGGAGACTGTAAACGAAAGTGGG\n",
      "GTGAGCTAGTATATAAGACAACAGAGTTGTTACTAGGAAGGCGTCCAAGTGGATGCCTTTGGAACAATGC\n"
     ]
    },
    {
     "data": {
      "text/plain": [
       "'CGTAACAAGGTTTCCGTAGGTGAACCTGCGGAAGGATCATTGTTGAGACAACAGAATATATGATCGAGTG'"
      ]
     },
     "execution_count": 9,
     "metadata": {},
     "output_type": "execute_result"
    }
   ],
   "source": [
    "#stride\n",
    "from Bio.Seq import Seq   \n",
    "my_seq=Seq(\"CGTAACAAGGTTTCCGTAGGTGAACCTGCGGAAGGATCATTGTTGAGACAACAGAATATATGATCGAGTG\")\n",
    "print (len(my_seq))\n",
    "print (my_seq.count(\"G\"))\n",
    "my_seq[4:12]\n",
    "print(my_seq[4:12])\n",
    "my_seq[3::2]\n",
    "print(my_seq[3::2])\n",
    "my_seq[::-1]\n",
    "print(my_seq[::-1])\n",
    "str(my_seq)"
   ]
  },
  {
   "cell_type": "code",
   "execution_count": 10,
   "id": "a75453f4-51bb-4229-9ae8-ae62a91c9cc9",
   "metadata": {
    "scrolled": true
   },
   "outputs": [
    {
     "name": "stdout",
     "output_type": "stream",
     "text": [
      "44.285714285714285\n"
     ]
    }
   ],
   "source": [
    "from Bio.Seq import Seq\n",
    "from Bio.SeqUtils import gc_fraction  # SeqUtils düzgün yazıldı\n",
    "my_seq = Seq(\"CGTAACAAGGTTTCCGTAGGTGAACCTGCGGAAGGATCATTGTTGAGACAACAGAATATATGATCGAGTG\")\n",
    "print(gc_fraction(my_seq) * 100)  # GC faizini çap edir"
   ]
  },
  {
   "cell_type": "code",
   "execution_count": 11,
   "id": "6d4d0fd2-8d61-4e9d-9ce6-05c8ab5dd6fa",
   "metadata": {},
   "outputs": [
    {
     "name": "stdout",
     "output_type": "stream",
     "text": [
      "GC Content: 44.29%\n"
     ]
    }
   ],
   "source": [
    "from Bio.Seq import Seq\n",
    "from Bio.SeqUtils import gc_fraction  # Yeni funksiya adı\n",
    "my_seq = Seq(\"CGTAACAAGGTTTCCGTAGGTGAACCTGCGGAAGGATCATTGTTGAGACAACAGAATATATGATCGAGTG\")\n",
    "gc_content = gc_fraction(my_seq) * 100  # GC faizi üçün 100-ə vururuq\n",
    "print(f\"GC Content: {gc_content:.2f}%\")"
   ]
  },
  {
   "cell_type": "code",
   "execution_count": 12,
   "id": "b256722a-a556-43d8-9f8d-5df0117e31f8",
   "metadata": {},
   "outputs": [
    {
     "data": {
      "text/plain": [
       "Seq('EVRNAKACGT')"
      ]
     },
     "execution_count": 12,
     "metadata": {},
     "output_type": "execute_result"
    }
   ],
   "source": [
    "from Bio.Seq import Seq\n",
    "protein_seq=Seq(\"EVRNAK\")\n",
    "dna_seq=Seq(\"ACGT\")\n",
    "protein_seq+dna_seq\n",
    "#səhv yanaşmadır!!!"
   ]
  },
  {
   "cell_type": "code",
   "execution_count": 13,
   "id": "e3417991-00d5-4ba3-bf0c-47a1fd48a01b",
   "metadata": {},
   "outputs": [
    {
     "name": "stdout",
     "output_type": "stream",
     "text": [
      "[Seq('ACGT'), Seq('AACC'), Seq('TTCC')]\n",
      "Concatenated Sequence: ACGT\n",
      "[Seq('ACGT'), Seq('AACC'), Seq('TTCC')]\n",
      "Concatenated Sequence: ACGTAACC\n",
      "[Seq('ACGT'), Seq('AACC'), Seq('TTCC')]\n",
      "Concatenated Sequence: ACGTAACCTTCC\n"
     ]
    }
   ],
   "source": [
    "from Bio.Seq import Seq\n",
    "list_of_seqs=[Seq(\"ACGT\"), Seq(\"AACC\"), Seq(\"TTCC\")]\n",
    "concatenated=Seq(\"\") \n",
    "for s in list_of_seqs: \n",
    "    concatenated+=s\n",
    "    pass\n",
    "    print(list_of_seqs)\n",
    "    print(\"Concatenated Sequence:\", concatenated)"
   ]
  },
  {
   "cell_type": "code",
   "execution_count": 14,
   "id": "89a80307-e2fa-4c4e-a257-6cd94e30d7fd",
   "metadata": {},
   "outputs": [
    {
     "data": {
      "text/plain": [
       "Seq('ATGNNNNNNNNNNTTCCNNNNNNNNNNTTGCA')"
      ]
     },
     "execution_count": 14,
     "metadata": {},
     "output_type": "execute_result"
    }
   ],
   "source": [
    "from Bio.Seq import Seq\n",
    "contigs=[Seq(\"ATG\"), Seq(\"TTCC\"), Seq(\"TTGCA\")]\n",
    "spacer=Seq(\"N\"*10)\n",
    "spacer.join(contigs)"
   ]
  },
  {
   "cell_type": "code",
   "execution_count": 15,
   "id": "f8e22a8a-a0bf-4da9-9d92-2c97708494e7",
   "metadata": {},
   "outputs": [
    {
     "name": "stdout",
     "output_type": "stream",
     "text": [
      "acgtACGT\n",
      "ACGTACGT\n",
      "acgtacgt\n"
     ]
    }
   ],
   "source": [
    "from Bio.Seq import Seq\n",
    "dna_seq=Seq(\"acgtACGT\")\n",
    "print(dna_seq)\n",
    "print(dna_seq.upper())\n",
    "print(dna_seq.lower())"
   ]
  },
  {
   "cell_type": "code",
   "execution_count": 16,
   "id": "9f780bfc-1f72-4049-be93-c0cd40fdfaff",
   "metadata": {},
   "outputs": [
    {
     "name": "stdout",
     "output_type": "stream",
     "text": [
      "CGTAACAAGGTTTCCGTAGGTGAACCTGCGGAAGGATCATTGTTGAGACAACAGAATATATGATCGAGTG\n",
      "GCATTGTTCCAAAGGCATCCACTTGGACGCCTTCCTAGTAACAACTCTGTTGTCTTATATACTAGCTCAC\n",
      "CACTCGATCATATATTCTGTTGTCTCAACAATGATCCTTCCGCAGGTTCACCTACGGAAACCTTGTTACG\n"
     ]
    }
   ],
   "source": [
    "from Bio.Seq import Seq\n",
    "my_seq=Seq(\"CGTAACAAGGTTTCCGTAGGTGAACCTGCGGAAGGATCATTGTTGAGACAACAGAATATATGATCGAGTG\")\n",
    "print(my_seq)\n",
    "print(my_seq.complement())\n",
    "print(my_seq.reverse_complement())"
   ]
  }
 ],
 "metadata": {
  "kernelspec": {
   "display_name": "base",
   "language": "python",
   "name": "python3"
  },
  "language_info": {
   "codemirror_mode": {
    "name": "ipython",
    "version": 3
   },
   "file_extension": ".py",
   "mimetype": "text/x-python",
   "name": "python",
   "nbconvert_exporter": "python",
   "pygments_lexer": "ipython3",
   "version": "3.12.7"
  }
 },
 "nbformat": 4,
 "nbformat_minor": 5
}
