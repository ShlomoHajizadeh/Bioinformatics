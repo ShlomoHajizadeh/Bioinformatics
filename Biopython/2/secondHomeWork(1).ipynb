{
 "cells": [
  {
   "cell_type": "code",
   "execution_count": 1,
   "metadata": {},
   "outputs": [
    {
     "name": "stdout",
     "output_type": "stream",
     "text": [
      "Requirement already satisfied: biopython in /opt/anaconda3/lib/python3.12/site-packages (1.77)\n",
      "Requirement already satisfied: numpy in /opt/anaconda3/lib/python3.12/site-packages (from biopython) (1.26.4)\n",
      "Note: you may need to restart the kernel to use updated packages.\n",
      "ATGGCCATTGTAATGGGCCGCTGAAAGGGTGCCCGATAG\n",
      "CTATCGGGCACCCTTTCAGCGGCCCATTACAATGGCCAT\n"
     ]
    }
   ],
   "source": [
    "%pip install biopython\n",
    "\n",
    "from Bio.Seq import Seq\n",
    "coding_dna=Seq(\"ATGGCCATTGTAATGGGCCGCTGAAAGGGTGCCCGATAG\")\n",
    "print(coding_dna)\n",
    "#Seq(\"ATGGCCATTGTAATGGGCCGCTGAAAGGGTGCCCGATAG\")\n",
    "template_dna=coding_dna.reverse_complement()\n",
    "print(template_dna)"
   ]
  },
  {
   "cell_type": "code",
   "execution_count": 2,
   "metadata": {},
   "outputs": [
    {
     "name": "stdout",
     "output_type": "stream",
     "text": [
      "ATGGCCATTGTAATGGGCCGCTGAAAGGGTGCCCGATAG\n"
     ]
    }
   ],
   "source": [
    "print(coding_dna)"
   ]
  },
  {
   "cell_type": "code",
   "execution_count": 3,
   "metadata": {},
   "outputs": [
    {
     "name": "stdout",
     "output_type": "stream",
     "text": [
      "AUGGCCAUUGUAAUGGGCCGCUGAAAGGGUGCCCGAUAG\n",
      "AUGGCCAUUGUAAUGGGCCGCUGAAAGGGUGCCCGAUAG\n"
     ]
    }
   ],
   "source": [
    "messenger_rna=coding_dna.transcribe()\n",
    "print(messenger_rna)\n",
    "print(template_dna.reverse_complement().transcribe())"
   ]
  },
  {
   "cell_type": "code",
   "execution_count": 4,
   "metadata": {},
   "outputs": [
    {
     "name": "stdout",
     "output_type": "stream",
     "text": [
      "AUGGCCAUUGUAAUGGGCCGCUGAAAGGGUGCCCGAUAG\n",
      "ATGGCCATTGTAATGGGCCGCTGAAAGGGTGCCCGATAG\n",
      "MAIVMGR*KGAR*\n"
     ]
    }
   ],
   "source": [
    "#back-transcription method\n",
    "messenger_rna=Seq(\"AUGGCCAUUGUAAUGGGCCGCUGAAAGGGUGCCCGAUAG\")\n",
    "print(messenger_rna)\n",
    "print(messenger_rna.back_transcribe())\n",
    "print(messenger_rna.translate())\n",
    "#ATGGCCATTGTAATGGGCCGCTGAAAGGGTGCCCGATAG burdan ede bilirsen...\n"
   ]
  },
  {
   "cell_type": "code",
   "execution_count": 5,
   "metadata": {},
   "outputs": [
    {
     "name": "stdout",
     "output_type": "stream",
     "text": [
      "ATGGCCATTGTAATGGGCCGCTGAAAGGGTGCCCGATAG\n",
      "MAIVMGR*KGAR*\n"
     ]
    }
   ],
   "source": [
    "#veya\n",
    "coding_dna=Seq(\"ATGGCCATTGTAATGGGCCGCTGAAAGGGTGCCCGATAG\")\n",
    "print(coding_dna)\n",
    "print(coding_dna.translate())"
   ]
  },
  {
   "cell_type": "code",
   "execution_count": 6,
   "metadata": {},
   "outputs": [
    {
     "name": "stdout",
     "output_type": "stream",
     "text": [
      "MAIVMGRWKGAR*\n"
     ]
    },
    {
     "data": {
      "text/plain": [
       "Seq('MAIVMGRWKGAR*', HasStopCodon(ExtendedIUPACProtein(), '*'))"
      ]
     },
     "execution_count": 6,
     "metadata": {},
     "output_type": "execute_result"
    }
   ],
   "source": [
    "print(coding_dna.translate(table=\"Vertebrate Mitochondrial\"))\n",
    "#veya \n",
    "coding_dna.translate(table=2)"
   ]
  },
  {
   "cell_type": "code",
   "execution_count": 7,
   "metadata": {},
   "outputs": [
    {
     "name": "stdout",
     "output_type": "stream",
     "text": [
      "MAIVMGR*KGAR*\n",
      "MAIVMGR\n"
     ]
    }
   ],
   "source": [
    "print(coding_dna.translate())\n",
    "#Seq(\"MAIVMGR*KGAR*\")\n",
    "print(coding_dna.translate(to_stop=True))"
   ]
  },
  {
   "cell_type": "code",
   "execution_count": 8,
   "metadata": {},
   "outputs": [
    {
     "name": "stdout",
     "output_type": "stream",
     "text": [
      "MAIVMGRWKGAR*\n"
     ]
    }
   ],
   "source": [
    "print(coding_dna.translate(table=2))"
   ]
  },
  {
   "cell_type": "code",
   "execution_count": 9,
   "metadata": {},
   "outputs": [
    {
     "name": "stdout",
     "output_type": "stream",
     "text": [
      "MAIVMGRWKGAR\n"
     ]
    }
   ],
   "source": [
    "print(coding_dna.translate(table=2, to_stop=True))"
   ]
  },
  {
   "cell_type": "code",
   "execution_count": 10,
   "metadata": {},
   "outputs": [
    {
     "name": "stdout",
     "output_type": "stream",
     "text": [
      "MAIVMGR*KGAR*\n",
      "MAIVMGR\n",
      "MAIVMGRWKGAR*\n",
      "MAIVMGRWKGAR\n"
     ]
    }
   ],
   "source": [
    "print(coding_dna.translate())\n",
    "#Seq(\"MAIVMGR*KGAR*\")\n",
    "print(coding_dna.translate(to_stop=True))\n",
    "print(coding_dna.translate(table=2))\n",
    "print(coding_dna.translate(table=2, to_stop=True))"
   ]
  },
  {
   "cell_type": "code",
   "execution_count": 11,
   "metadata": {},
   "outputs": [
    {
     "data": {
      "text/plain": [
       "Seq('MAIVMGRWKGAR@', HasStopCodon(ExtendedIUPACProtein(), '@'))"
      ]
     },
     "execution_count": 11,
     "metadata": {},
     "output_type": "execute_result"
    }
   ],
   "source": [
    "coding_dna.translate(table=2, stop_symbol=\"@\")"
   ]
  },
  {
   "cell_type": "code",
   "execution_count": 12,
   "metadata": {},
   "outputs": [
    {
     "name": "stdout",
     "output_type": "stream",
     "text": [
      "GTGAAAAAGATGCAATCTATCGTACTCGCACTTTCCCTGGTTCTGGTCGCTCCCATGGCAGCACAGGCTGCGGAAATTACGTTAGTCCCGTCAGTAAAATTACAGATAGGCGATCGTGATAATCGTGGCTATTACTGGGATGGAGGTCACTGGCGCGACCACGGCTGGTGGAAACAACATTATGAATGGCGAGGCAATCGCTGGCACCTACACGGACCGCCGCCACCGCCGCGCCACCATAAGAAAGCTCCTCATGATCATCACGGCGGTCATGGTCCAGGCAAACATCACCGCTAA\n"
     ]
    }
   ],
   "source": [
    "from Bio.Seq import Seq\n",
    "gene=Seq(\"GTGAAAAAGATGCAATCTATCGTACTCGCACTTTCCCTGGTTCTGGTCGCTCCCATGGCA\"\n",
    "    \"GCACAGGCTGCGGAAATTACGTTAGTCCCGTCAGTAAAATTACAGATAGGCGATCGTGAT\"\n",
    "    \"AATCGTGGCTATTACTGGGATGGAGGTCACTGGCGCGACCACGGCTGGTGGAAACAACAT\"\n",
    "    \"TATGAATGGCGAGGCAATCGCTGGCACCTACACGGACCGCCGCCACCGCCGCGCCACCAT\"\n",
    "    \"AAGAAAGCTCCTCATGATCATCACGGCGGTCATGGTCCAGGCAAACATCACCGCTAA\")\n",
    "print(gene)"
   ]
  },
  {
   "cell_type": "code",
   "execution_count": 13,
   "metadata": {},
   "outputs": [
    {
     "name": "stdout",
     "output_type": "stream",
     "text": [
      "VKKMQSIVLALSLVLVAPMAAQAAEITLVPSVKLQIGDRDNRGYYWDGGHWRDHGWWKQHYEWRGNRWHLHGPPPPPRHHKKAPHDHHGGHGPGKHHR*\n"
     ]
    }
   ],
   "source": [
    "print(gene.translate(table=\"Bacterial\"))  "
   ]
  },
  {
   "cell_type": "code",
   "execution_count": 14,
   "metadata": {},
   "outputs": [
    {
     "data": {
      "text/plain": [
       "Seq('VKKMQSIVLALSLVLVAPMAAQAAEITLVPSVKLQIGDRDNRGYYWDGGHWRDH...HHR', ExtendedIUPACProtein())"
      ]
     },
     "execution_count": 14,
     "metadata": {},
     "output_type": "execute_result"
    }
   ],
   "source": [
    "gene.translate(table=\"Bacterial\", to_stop=True)"
   ]
  },
  {
   "cell_type": "code",
   "execution_count": 15,
   "metadata": {},
   "outputs": [
    {
     "data": {
      "text/plain": [
       "Seq('MKKMQSIVLALSLVLVAPMAAQAAEITLVPSVKLQIGDRDNRGYYWDGGHWRDH...HHR', ExtendedIUPACProtein())"
      ]
     },
     "execution_count": 15,
     "metadata": {},
     "output_type": "execute_result"
    }
   ],
   "source": [
    "gene.translate(table=\"Bacterial\", cds=True)"
   ]
  },
  {
   "cell_type": "code",
   "execution_count": 16,
   "metadata": {},
   "outputs": [
    {
     "name": "stdout",
     "output_type": "stream",
     "text": [
      "GTGAAAAAGATGCAATCTATCGTACTCGCACTTTCCCTGGTTCTGGTCGCTCCCATGGCAGCACAGGCTGCGGAAATTACGTTAGTCCCGTCAGTAAAATTACAGATAGGCGATCGTGATAATCGTGGCTATTACTGGGATGGAGGTCACTGGCGCGACCACGGCTGGTGGAAACAACATTATGAATGGCGAGGCAATCGCTGGCACCTACACGGACCGCCGCCACCGCCGCGCCACCATAAGAAAGCTCCTCATGATCATCACGGCGGTCATGGTCCAGGCAAACATCACCGCTAA\n",
      "VKKMQSIVLALSLVLVAPMAAQAAEITLVPSVKLQIGDRDNRGYYWDGGHWRDHGWWKQHYEWRGNRWHLHGPPPPPRHHKKAPHDHHGGHGPGKHHR*\n",
      "VKKMQSIVLALSLVLVAPMAAQAAEITLVPSVKLQIGDRDNRGYYWDGGHWRDHGWWKQHYEWRGNRWHLHGPPPPPRHHKKAPHDHHGGHGPGKHHR\n",
      "MKKMQSIVLALSLVLVAPMAAQAAEITLVPSVKLQIGDRDNRGYYWDGGHWRDHGWWKQHYEWRGNRWHLHGPPPPPRHHKKAPHDHHGGHGPGKHHR\n"
     ]
    }
   ],
   "source": [
    "print(gene)\n",
    "print(gene.translate(table=\"Bacterial\"))  \n",
    "print(gene.translate(table=\"Bacterial\", to_stop=True))\n",
    "print(gene.translate(table=\"Bacterial\", cds=True))"
   ]
  },
  {
   "cell_type": "code",
   "execution_count": 17,
   "metadata": {},
   "outputs": [
    {
     "name": "stdout",
     "output_type": "stream",
     "text": [
      "VKKMQSIVLALSLVLVAPMAAQAAEITLVPSVKLQIGDRDNRGYYWDGGHWRDHGWWKQHYEWRGNRWHLHGPPPPPRHHKKAPHDHHGGHGPGKHHR*\n"
     ]
    }
   ],
   "source": [
    "print (gene.translate(table=\"Bacterial\"))\n",
    "#Seq('VKKMQSIVLALSLVLVAPMAAQAAEITLVPSVKLQIGDRDNRGYYWDGGHWRDH...HR*',ProteinAlpabet()) "
   ]
  },
  {
   "cell_type": "code",
   "execution_count": 18,
   "metadata": {},
   "outputs": [
    {
     "data": {
      "text/plain": [
       "Seq('VKKMQSIVLALSLVLVAPMAAQAAEITLVPSVKLQIGDRDNRGYYWDGGHWRDH...HHR')"
      ]
     },
     "execution_count": 18,
     "metadata": {},
     "output_type": "execute_result"
    }
   ],
   "source": [
    "gene.translate(table=\"Bacterial\", to_stop=True)\n",
    "Seq('VKKMQSIVLALSLVLVAPMAAQAAEITLVPSVKLQIGDRDNRGYYWDGGHWRDH...HHR')\n",
    "#Bakterial genetik kodda GTG etibarlı başlanğıc kodonudur və \n",
    "#normal olaraq Valini kodlasa da, başlanğıc kodonu kimi istifadə edilərsə, \n",
    "#metionin kimi tərcümə edilməlidir.\n",
    " "
   ]
  },
  {
   "cell_type": "code",
   "execution_count": 19,
   "metadata": {},
   "outputs": [
    {
     "data": {
      "text/plain": [
       "Seq('MKKMQSIVLALSLVLVAPMAAQAAEITLVPSVKLQIGDRDNRGYYWDGGHWRDH...HHR')"
      ]
     },
     "execution_count": 19,
     "metadata": {},
     "output_type": "execute_result"
    }
   ],
   "source": [
    "gene.translate(table=\"Bacterial\", cds=True)\n",
    "Seq('MKKMQSIVLALSLVLVAPMAAQAAEITLVPSVKLQIGDRDNRGYYWDGGHWRDH...HHR')"
   ]
  },
  {
   "cell_type": "code",
   "execution_count": 20,
   "metadata": {},
   "outputs": [
    {
     "name": "stdout",
     "output_type": "stream",
     "text": [
      "Table 1 Standard, SGC0\n",
      "\n",
      "  |  T      |  C      |  A      |  G      |\n",
      "--+---------+---------+---------+---------+--\n",
      "T | TTT F   | TCT S   | TAT Y   | TGT C   | T\n",
      "T | TTC F   | TCC S   | TAC Y   | TGC C   | C\n",
      "T | TTA L   | TCA S   | TAA Stop| TGA Stop| A\n",
      "T | TTG L(s)| TCG S   | TAG Stop| TGG W   | G\n",
      "--+---------+---------+---------+---------+--\n",
      "C | CTT L   | CCT P   | CAT H   | CGT R   | T\n",
      "C | CTC L   | CCC P   | CAC H   | CGC R   | C\n",
      "C | CTA L   | CCA P   | CAA Q   | CGA R   | A\n",
      "C | CTG L(s)| CCG P   | CAG Q   | CGG R   | G\n",
      "--+---------+---------+---------+---------+--\n",
      "A | ATT I   | ACT T   | AAT N   | AGT S   | T\n",
      "A | ATC I   | ACC T   | AAC N   | AGC S   | C\n",
      "A | ATA I   | ACA T   | AAA K   | AGA R   | A\n",
      "A | ATG M(s)| ACG T   | AAG K   | AGG R   | G\n",
      "--+---------+---------+---------+---------+--\n",
      "G | GTT V   | GCT A   | GAT D   | GGT G   | T\n",
      "G | GTC V   | GCC A   | GAC D   | GGC G   | C\n",
      "G | GTA V   | GCA A   | GAA E   | GGA G   | A\n",
      "G | GTG V   | GCG A   | GAG E   | GGG G   | G\n",
      "--+---------+---------+---------+---------+--\n",
      "Table 2 Vertebrate Mitochondrial, SGC1\n",
      "\n",
      "  |  T      |  C      |  A      |  G      |\n",
      "--+---------+---------+---------+---------+--\n",
      "T | TTT F   | TCT S   | TAT Y   | TGT C   | T\n",
      "T | TTC F   | TCC S   | TAC Y   | TGC C   | C\n",
      "T | TTA L   | TCA S   | TAA Stop| TGA W   | A\n",
      "T | TTG L   | TCG S   | TAG Stop| TGG W   | G\n",
      "--+---------+---------+---------+---------+--\n",
      "C | CTT L   | CCT P   | CAT H   | CGT R   | T\n",
      "C | CTC L   | CCC P   | CAC H   | CGC R   | C\n",
      "C | CTA L   | CCA P   | CAA Q   | CGA R   | A\n",
      "C | CTG L   | CCG P   | CAG Q   | CGG R   | G\n",
      "--+---------+---------+---------+---------+--\n",
      "A | ATT I(s)| ACT T   | AAT N   | AGT S   | T\n",
      "A | ATC I(s)| ACC T   | AAC N   | AGC S   | C\n",
      "A | ATA M(s)| ACA T   | AAA K   | AGA Stop| A\n",
      "A | ATG M(s)| ACG T   | AAG K   | AGG Stop| G\n",
      "--+---------+---------+---------+---------+--\n",
      "G | GTT V   | GCT A   | GAT D   | GGT G   | T\n",
      "G | GTC V   | GCC A   | GAC D   | GGC G   | C\n",
      "G | GTA V   | GCA A   | GAA E   | GGA G   | A\n",
      "G | GTG V(s)| GCG A   | GAG E   | GGG G   | G\n",
      "--+---------+---------+---------+---------+--\n"
     ]
    }
   ],
   "source": [
    "#Translation tables\n",
    "#Standart translation cədvəli və  Vertebrate Mitoxondrial DNT üçün translation cədvəli.\n",
    "from Bio.Data import CodonTable\n",
    "standard_table = CodonTable.unambiguous_dna_by_name[\"Standard\"]\n",
    "mito_table = CodonTable.unambiguous_dna_by_name[\"Vertebrate Mitochondrial\"]\n",
    "print(standard_table)\n",
    "print(mito_table)"
   ]
  },
  {
   "cell_type": "code",
   "execution_count": 23,
   "metadata": {},
   "outputs": [
    {
     "data": {
      "text/plain": [
       "'T'"
      ]
     },
     "execution_count": 23,
     "metadata": {},
     "output_type": "execute_result"
    }
   ],
   "source": [
    "#stop ve start codonlari...\n",
    "mito_table.stop_codons\n",
    "['TAA', 'TAG', 'AGA', 'AGG']\n",
    "mito_table.start_codons\n",
    "['ATT', 'ATC', 'ATA', 'ATG', 'GTG']\n",
    "mito_table.forward_table[\"ACG\"]\n",
    "'T'"
   ]
  },
  {
   "cell_type": "code",
   "execution_count": 24,
   "metadata": {},
   "outputs": [
    {
     "name": "stdout",
     "output_type": "stream",
     "text": [
      "['TAA', 'TAG', 'AGA', 'AGG']\n"
     ]
    }
   ],
   "source": [
    "print(mito_table.stop_codons)"
   ]
  },
  {
   "cell_type": "code",
   "execution_count": 25,
   "metadata": {},
   "outputs": [
    {
     "name": "stdout",
     "output_type": "stream",
     "text": [
      "['ATT', 'ATC', 'ATA', 'ATG', 'GTG']\n"
     ]
    }
   ],
   "source": [
    "print(mito_table.start_codons)"
   ]
  },
  {
   "cell_type": "code",
   "execution_count": 26,
   "metadata": {},
   "outputs": [
    {
     "name": "stdout",
     "output_type": "stream",
     "text": [
      "{'TTT': 'F', 'TTC': 'F', 'TTA': 'L', 'TTG': 'L', 'TCT': 'S', 'TCC': 'S', 'TCA': 'S', 'TCG': 'S', 'TAT': 'Y', 'TAC': 'Y', 'TGT': 'C', 'TGC': 'C', 'TGA': 'W', 'TGG': 'W', 'CTT': 'L', 'CTC': 'L', 'CTA': 'L', 'CTG': 'L', 'CCT': 'P', 'CCC': 'P', 'CCA': 'P', 'CCG': 'P', 'CAT': 'H', 'CAC': 'H', 'CAA': 'Q', 'CAG': 'Q', 'CGT': 'R', 'CGC': 'R', 'CGA': 'R', 'CGG': 'R', 'ATT': 'I', 'ATC': 'I', 'ATA': 'M', 'ATG': 'M', 'ACT': 'T', 'ACC': 'T', 'ACA': 'T', 'ACG': 'T', 'AAT': 'N', 'AAC': 'N', 'AAA': 'K', 'AAG': 'K', 'AGT': 'S', 'AGC': 'S', 'GTT': 'V', 'GTC': 'V', 'GTA': 'V', 'GTG': 'V', 'GCT': 'A', 'GCC': 'A', 'GCA': 'A', 'GCG': 'A', 'GAT': 'D', 'GAC': 'D', 'GAA': 'E', 'GAG': 'E', 'GGT': 'G', 'GGC': 'G', 'GGA': 'G', 'GGG': 'G'}\n"
     ]
    }
   ],
   "source": [
    "print(mito_table.forward_table)"
   ]
  },
  {
   "cell_type": "code",
   "execution_count": 27,
   "metadata": {},
   "outputs": [
    {
     "name": "stdout",
     "output_type": "stream",
     "text": [
      "True\n",
      "True\n"
     ]
    }
   ],
   "source": [
    "#Seq obyektlərinin müqayisə edilməsi\n",
    "from Bio.Seq import Seq\n",
    "seq1 = Seq(\"ACGT\")\n",
    "\"ACGT\" == seq1\n",
    "print(\"ACGT\"==seq1)\n",
    "print(seq1==\"ACGT\")"
   ]
  },
  {
   "cell_type": "code",
   "execution_count": 30,
   "metadata": {},
   "outputs": [],
   "source": [
    "#Ardıcıllığı naməlum olan ardıcıllıqlar\n",
    "from Bio.Seq import UnknownSeq\n",
    "unknown_seq = UnknownSeq(10)"
   ]
  },
  {
   "cell_type": "code",
   "execution_count": 32,
   "metadata": {},
   "outputs": [
    {
     "name": "stdout",
     "output_type": "stream",
     "text": [
      "????????????????????????????????????????????????????????????????????????????????????????????????????????????????????????????????????????????????????????????????????????????????????????????????????????????????????????????????????????????????????????????????????????????????????????????????????????????????????????????????????????????????????????????????????????????????????????????????????????????????????????????????????????????????????????????????????????????????????????????????????????????????????????????????????????????????????????????????????????????????????????????????????????????????????????????????????????????????????????????????????????????????????????????????????????????????????????????????????????????????????????????????????????????????????????????????????????????????????????????????????????????????????????????????????????????????????????????????????????????????????????????????????????????????????????????????????????????????????????????????????????????????????????????????????????\n",
      "1000\n"
     ]
    }
   ],
   "source": [
    "from Bio.Seq import UnknownSeq\n",
    "seq_unknown = UnknownSeq(1000)  # 1000 uzunluğunda, lakin içi boş olan bir Seq obyekti\n",
    "print(seq_unknown)\n",
    "print(len(seq_unknown))  # 1000 çap edəcək"
   ]
  },
  {
   "cell_type": "code",
   "execution_count": 33,
   "metadata": {},
   "outputs": [
    {
     "name": "stdout",
     "output_type": "stream",
     "text": [
      "TTGAAAACCTGAATGTGAGAGTCAGTCAAGGATAGT\n",
      "TTGAAAACCTGAATGTGAGAGTCACTCAAGGATAGT\n",
      "CTGAAATCCTGAATGTGAGAGTCAATCAAGGATGGT\n",
      "CTGAAAACCTAAGTAGGAGAATCAACTAAGGATAAT\n",
      "CTGAAAACCTAAGTAGGAGAGACAGTTAAAGATAAT\n",
      "TTGAAAAACTGATTATTAGAGTCAATTAAGGATAGT\n",
      "TTAAGAAACTGGAAATGAGGGTTGAATGACAAACTT\n"
     ]
    }
   ],
   "source": [
    "#MAF (Multiple Alignment Format)\n",
    "hg38_chr7 = \"TTGAAAACCTGAATGTGAGAGTCAGTCAAGGATAGT\"\n",
    "panTro4_chr7 = \"TTGAAAACCTGAATGTGAGAGTCACTCAAGGATAGT\"\n",
    "rheMac3_chr3 = \"CTGAAATCCTGAATGTGAGAGTCAATCAAGGATGGT\"\n",
    "mm10_chr6 = \"CTGAAAACCTAAGTAGGAGAATCAACTAAGGATAAT\"\n",
    "rn5_chr4 = \"CTGAAAACCTAAGTAGGAGAGACAGTTAAAGATAAT\"\n",
    "canFam3_chr14 = \"TTGAAAAACTGATTATTAGAGTCAATTAAGGATAGT\"\n",
    "monDom5_chr8 = \"TTAAGAAACTGGAAATGAGGGTTGAATGACAAACTT\"\n",
    "\n",
    "print(hg38_chr7)\n",
    "print(panTro4_chr7)\n",
    "print(rheMac3_chr3)\n",
    "print(mm10_chr6)\n",
    "print(rn5_chr4)\n",
    "print(canFam3_chr14)\n",
    "print(monDom5_chr8)"
   ]
  },
  {
   "cell_type": "code",
   "execution_count": 36,
   "metadata": {},
   "outputs": [
    {
     "name": "stdout",
     "output_type": "stream",
     "text": [
      "\n",
      "TTGAAAACCT\n",
      "\n",
      "\n",
      "\n"
     ]
    }
   ],
   "source": [
    "from Bio.Seq import Seq\n",
    "seq = Seq(\"TTGAAAACCTGAATGTGAGAGTCAGTCAAGGATAGT\")\n",
    " \n",
    "# Attempting to slice beyond the sequence length will result in an empty Seq object\n",
    "print(seq[1000:1020])  # This will return an empty Seq object since the index is out of range\n",
    "\n",
    "# Valid slicing within the sequence range\n",
    "print(seq[0:10])  # Example: First 10 bases\n",
    "print(seq[117512690 - len(seq):117512700 - len(seq)])  # Adjusted indices for demonstration\n",
    "print(seq[117512670 - len(seq):117512690 - len(seq)])  # Adjusted indices for demonstration\n",
    "print(seq[117512700 - len(seq):])  # Adjusted indices for demonstration"
   ]
  },
  {
   "cell_type": "code",
   "execution_count": 38,
   "metadata": {},
   "outputs": [
    {
     "data": {
      "text/plain": [
       "MutableSeq('GCCATTGTAATGGGCCGCTGAAAGGGTGCCCGA')"
      ]
     },
     "execution_count": 38,
     "metadata": {},
     "output_type": "execute_result"
    }
   ],
   "source": [
    "#MutableSeq objects\n",
    "from Bio.Seq import Seq\n",
    "my_seq = Seq(\"GCCATTGTAATGGGCCGCTGAAAGGGTGCCCGA\")\n",
    "from Bio.Seq import MutableSeq\n",
    "mutable_seq = MutableSeq(str(my_seq))\n",
    "MutableSeq('GCCATTGTAATGGGCCGCTGAAAGGGTGCCCGA')"
   ]
  },
  {
   "cell_type": "code",
   "execution_count": 39,
   "metadata": {},
   "outputs": [],
   "source": [
    "mutable_seq[5]=\"C\""
   ]
  },
  {
   "cell_type": "code",
   "execution_count": 40,
   "metadata": {},
   "outputs": [
    {
     "name": "stdout",
     "output_type": "stream",
     "text": [
      "GCCATCGTAATGGGCCGCTGAAAGGGTGCCCGA\n"
     ]
    }
   ],
   "source": [
    "print(mutable_seq)"
   ]
  },
  {
   "cell_type": "code",
   "execution_count": 41,
   "metadata": {},
   "outputs": [
    {
     "name": "stdout",
     "output_type": "stream",
     "text": [
      "GCCACGTAATGGGCCGCTGAAAGGGTGCCCGA\n"
     ]
    }
   ],
   "source": [
    "#remove funkisyasi T nukleotidini cixaracaq.\n",
    "mutable_seq.remove(\"T\")\n",
    "print(mutable_seq)"
   ]
  },
  {
   "cell_type": "code",
   "execution_count": 42,
   "metadata": {},
   "outputs": [
    {
     "name": "stdout",
     "output_type": "stream",
     "text": [
      "AGCCCGTGGGAAAGTCGCCGGGTAATGCACCG\n"
     ]
    }
   ],
   "source": [
    "#reverse funksiyasi\n",
    "mutable_seq.reverse()\n",
    "print(mutable_seq)"
   ]
  },
  {
   "cell_type": "code",
   "execution_count": 43,
   "metadata": {},
   "outputs": [
    {
     "name": "stdout",
     "output_type": "stream",
     "text": [
      "????????????????????\n"
     ]
    }
   ],
   "source": [
    " #Unknown objects\n",
    "from Bio.Seq import Seq\n",
    "from Bio.Seq import UnknownSeq\n",
    "unk = UnknownSeq(20)\n",
    "print(unk)"
   ]
  },
  {
   "cell_type": "code",
   "execution_count": 44,
   "metadata": {},
   "outputs": [
    {
     "name": "stdout",
     "output_type": "stream",
     "text": [
      "NNNNNNNNNNNNNNNNNNNN\n"
     ]
    }
   ],
   "source": [
    "from Bio.Seq import UnknownSeq\n",
    "unk_dna = UnknownSeq(20, character=\"N\")\n",
    "print(unk_dna)"
   ]
  },
  {
   "cell_type": "code",
   "execution_count": 45,
   "metadata": {},
   "outputs": [
    {
     "name": "stdout",
     "output_type": "stream",
     "text": [
      "CTAACCAGCAGCACGACCACCCTTCCAACGACCCATAACAGC\n",
      "GCUGUUAUGGGUCGUUGGAAGGGUGGUCGUGCUGCUGGUUAG\n",
      "GCTGTTATGGGTCGTTGGAAGGGTGGTCGTGCTGCTGGTTAG\n",
      "AVMGRWKGGRAAG*\n"
     ]
    }
   ],
   "source": [
    "#Stringlerle islemek...\n",
    "from Bio.Seq import reverse_complement, transcribe, back_transcribe, translate\n",
    "my_string = \"GCTGTTATGGGTCGTTGGAAGGGTGGTCGTGCTGCTGGTTAG\"\n",
    "print(reverse_complement(my_string))\n",
    "print(transcribe(my_string))\n",
    "print(back_transcribe(my_string))\n",
    "print(translate(my_string))"
   ]
  },
  {
   "cell_type": "code",
   "execution_count": 48,
   "metadata": {},
   "outputs": [
    {
     "name": "stdout",
     "output_type": "stream",
     "text": [
      "9\n",
      "9\n",
      "9\n",
      "9\n",
      "9\n"
     ]
    }
   ],
   "source": [
    "#Alt ardıcıllıqların tapılması\n",
    "from Bio.Seq import Seq, MutableSeq\n",
    "seq = Seq(\"GCCATTGTAATGGGCCGCTGAAAGGGTGCCCGA\")\n",
    "print(seq.index(\"ATGGGCCGC\"))\n",
    "print(seq.index(b\"ATGGGCCGC\".decode(\"utf-8\")))\n",
    "print(seq.index(bytearray(b\"ATGGGCCGC\").decode(\"utf-8\")))\n",
    "print(seq.index(Seq(\"ATGGGCCGC\")))\n",
    "print(seq.index(MutableSeq(\"ATGGGCCGC\")))"
   ]
  },
  {
   "cell_type": "code",
   "execution_count": 53,
   "metadata": {},
   "outputs": [
    {
     "name": "stdout",
     "output_type": "stream",
     "text": [
      "1 CC\n",
      "11 GGG\n",
      "1 CC\n",
      "-1\n",
      "1\n",
      "29\n"
     ]
    }
   ],
   "source": [
    "# Searching for substrings manually\n",
    "substrings = [\"CC\", \"GGG\", \"CC\"]\n",
    "for sub in substrings:\n",
    "    index = seq.find(sub)\n",
    "    if index != -1:\n",
    "        print(index, sub)\n",
    "\n",
    "# Using find and rfind methods\n",
    "print(seq.find(\"ACTG\"))\n",
    "print(seq.find(\"CC\"))\n",
    "print(seq.rfind(\"CC\"))\n",
    "# GCCATTGTAATGGGCCGCTGAAAGGGTGCCCGA"
   ]
  }
 ],
 "metadata": {
  "kernelspec": {
   "display_name": "base",
   "language": "python",
   "name": "python3"
  },
  "language_info": {
   "codemirror_mode": {
    "name": "ipython",
    "version": 3
   },
   "file_extension": ".py",
   "mimetype": "text/x-python",
   "name": "python",
   "nbconvert_exporter": "python",
   "pygments_lexer": "ipython3",
   "version": "3.12.7"
  }
 },
 "nbformat": 4,
 "nbformat_minor": 2
}
